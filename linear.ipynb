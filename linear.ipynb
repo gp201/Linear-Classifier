{
  "nbformat": 4,
  "nbformat_minor": 0,
  "metadata": {
    "colab": {
      "name": "linear.ipynb",
      "version": "0.3.2",
      "provenance": [],
      "collapsed_sections": [],
      "include_colab_link": true
    },
    "kernelspec": {
      "name": "python3",
      "display_name": "Python 3"
    }
  },
  "cells": [
    {
      "cell_type": "markdown",
      "metadata": {
        "id": "view-in-github",
        "colab_type": "text"
      },
      "source": [
        "<a href=\"https://colab.research.google.com/github/gp201/Linear-Classifier/blob/master/linear.ipynb\" target=\"_parent\"><img src=\"https://colab.research.google.com/assets/colab-badge.svg\" alt=\"Open In Colab\"/></a>"
      ]
    },
    {
      "cell_type": "code",
      "metadata": {
        "id": "BYM0UwepvrIW",
        "colab_type": "code",
        "colab": {}
      },
      "source": [
        "# import lib\n",
        "import numpy as np\n",
        "import matplotlib.pyplot as plt\n",
        "%matplotlib inline\n",
        "import tensorflow as tf\n",
        "learn = tf.contrib.learn # might be removed in future"
      ],
      "execution_count": 0,
      "outputs": []
    },
    {
      "cell_type": "code",
      "metadata": {
        "id": "HqdJCJqav7kH",
        "colab_type": "code",
        "colab": {}
      },
      "source": [
        "#load datastes\n",
        "mnist = learn.datasets.load_dataset('mnist')\n",
        "data = mnist.train.images\n",
        "labels = np.asarray(mnist.train.labels, dtype=np.int32)\n",
        "test_data = mnist.test.images\n",
        "test_labels = np.asarray(mnist.test.labels, dtype=np.int32)"
      ],
      "execution_count": 0,
      "outputs": []
    },
    {
      "cell_type": "code",
      "metadata": {
        "id": "Lpg0zCrqv-ik",
        "colab_type": "code",
        "colab": {}
      },
      "source": [
        "#disp func\n",
        "def display(i):\n",
        "    img = test_data[i]\n",
        "    print('\\n Digit in the image',test_labels[i])\n",
        "    plt.imshow(img.reshape((28,28)), cmap=plt.cm.gray_r)"
      ],
      "execution_count": 0,
      "outputs": []
    },
    {
      "cell_type": "code",
      "metadata": {
        "id": "x-yyh3JhwEdW",
        "colab_type": "code",
        "colab": {}
      },
      "source": [
        "#model\n",
        "feature_columns = learn.infer_real_valued_columns_from_input(data)\n",
        "classifier = learn.LinearClassifier(feature_columns=feature_columns, n_classes=10)\n",
        "classifier.fit(data, labels, batch_size=100, steps=1000)"
      ],
      "execution_count": 0,
      "outputs": []
    },
    {
      "cell_type": "code",
      "metadata": {
        "id": "6x-J_bOHy4wS",
        "colab_type": "code",
        "colab": {}
      },
      "source": [
        "#cal accuracy\n",
        "classifier.evaluate(test_data, test_labels)\n",
        "print(classifier.evaluate(test_data, test_labels)[\"accuracy\"])"
      ],
      "execution_count": 0,
      "outputs": []
    },
    {
      "cell_type": "code",
      "metadata": {
        "id": "Zupqkj1H1Ae9",
        "colab_type": "code",
        "outputId": "e3c604bc-26d8-4df9-a5b3-bdca1c70bb6f",
        "colab": {
          "base_uri": "https://localhost:8080/",
          "height": 410
        }
      },
      "source": [
        "#predicting the value\n",
        "ex=8\n",
        "\n",
        "new_samples = np.array([test_data[ex]], dtype=float)\n",
        "y = list(classifier.predict(new_samples, as_iterable=True))\n",
        "\n",
        "print (\" Predicted: \",y)\n",
        "display(ex)"
      ],
      "execution_count": 0,
      "outputs": [
        {
          "output_type": "stream",
          "text": [
            "WARNING:tensorflow:float64 is not supported by many models, consider casting to float32.\n",
            "INFO:tensorflow:Graph was finalized.\n",
            "INFO:tensorflow:Restoring parameters from /tmp/tmp354db2k9/model.ckpt-1000\n",
            "INFO:tensorflow:Running local_init_op.\n",
            "INFO:tensorflow:Done running local_init_op.\n",
            " Predicted:  [6]\n",
            "\n",
            " Digit in the image 5\n"
          ],
          "name": "stdout"
        },
        {
          "output_type": "display_data",
          "data": {
            "image/png": "[encoded data removed]",
            "text/plain": [
              "<Figure size 432x288 with 1 Axes>"
            ]
          },
          "metadata": {
            "tags": []
          }
        }
      ]
    }
  ]
}